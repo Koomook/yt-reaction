{
 "nbformat": 4,
 "nbformat_minor": 2,
 "metadata": {
  "language_info": {
   "name": "python",
   "codemirror_mode": {
    "name": "ipython",
    "version": 3
   },
   "version": "3.7.1-final"
  },
  "orig_nbformat": 2,
  "file_extension": ".py",
  "mimetype": "text/x-python",
  "name": "python",
  "npconvert_exporter": "python",
  "pygments_lexer": "ipython3",
  "version": 3,
  "kernelspec": {
   "name": "lyrics",
   "display_name": "lyrics"
  }
 },
 "cells": [
  {
   "cell_type": "code",
   "execution_count": 2,
   "metadata": {},
   "outputs": [],
   "source": [
    "import pandas as pd"
   ]
  },
  {
   "cell_type": "code",
   "execution_count": 3,
   "metadata": {},
   "outputs": [],
   "source": [
    "import json\n",
    "with open(\"./out.json\", encoding=\"utf-8\") as fp:\n",
    "    data = json.load(fp)"
   ]
  },
  {
   "cell_type": "code",
   "execution_count": 4,
   "metadata": {},
   "outputs": [],
   "source": [
    "def clean_data(data):\n",
    "    for d in data:\n",
    "        d[\"votes\"] = int(d[\"votes\"])\n",
    "    return data\n",
    "cleaned_data = clean_data(data)"
   ]
  },
  {
   "cell_type": "code",
   "execution_count": 5,
   "metadata": {},
   "outputs": [],
   "source": [
    "df = pd.DataFrame(data=cleaned_data).sort_values(\"votes\", ascending=False)"
   ]
  },
  {
   "cell_type": "code",
   "execution_count": 19,
   "metadata": {},
   "outputs": [
    {
     "output_type": "stream",
     "name": "stdout",
     "text": "Bill Gates is the most qualified person to speak about viruses since Windows have most of them || 2732\nThis guy been fighting viruses since windows 95 || 2186\nBill hasn’t talked this much about viruses since Windows 98. || 1935\nHe’s laughing cause he tried to warn these idiots half a decade ago || 1775\nBill Gates has a resting “I told you so” face || 1630\nBill Gates~ dealing with viruses since Windows 95 || 1512\nwho saw bill gates talk about this 5 years ago and no one listen || 1374\nBill Gates' camera quality is on billionaire levels! || 1287\nWhy does Bill Gates sounds like he know about the future everythings also sounds like not guessing,he is talking about it for sure. || 1233\nBill Gates is blurring his background to hide his bunker's location. || 1175\nI love how Bill's casual camera at his home is better than CNN's \"studio camera\". || 1120\nbill's background is blurred because he's on mars || 1031\nBill has never been happier and enthused in an interview. Reminder he predicted the outbreak. || 913\nYou can’t help but smile when you are basically trying to explain to children that water is wet. || 904\nThis guy is dealing with viruses since Windows 95. Listen to him people! || 897\nThat skype connection between Bill's spaceship and earth is unreal || 882\nBill Gates during the whole interview: 😏 || 874\nno one seems to remember that when he did his ebola ted talk a couple years ago he warned about us not being ready for a big pandemic || 871\nFor just 10 seconds, focus only on how much each of the three guys are blinking.\n\nYou can’t unsee it || 865\nBill looks like he wants to laugh so bad || 829\nGuy on right: really smart\nGuy in middle: actively listening\nGuy on left: everything over his head || 803\nI edited this comment so you don’t know why it has so many likes || 754\nWhy can't Microsoft develop an Anti-Virus for this corona.exe || 734\nBill gates get excited about exponential growth, even if it’s a virus, lol || 730\nBill’s camera has more quality than cnn’s || 713\nBill Gates sounds like a guy who would found a muti-billion dollar company || 683\nPlot twist: he was talking about computer viruses. || 624\nthis feels like two kids asking dad whats happening in the world right now || 605\ni like that his camera quality is significantly better lol || 604\nhuh, it's almost like bill said four years ago that we aren't ready for the next pandemic.\n\n\noh, wait. || 599\nIf I gave a TED talk about this exact scenario 5 years ago my smuglevels would be through the roof. || 579\nGuy in the middle blinked like 100000 times || 573\nBill's been fighting viruses since Windows 95 LOL!!! || 569\nHe’s smirking cause some Americans really think this is going to be over soon || 568\nListen to Bill Gates, he knows about this, he has been fighting Viruses since  Windows 95  :) || 558\nBill has never felt so alive, he’s positively glowing. || 541\nBill Gates camera quality:\nVideo: 95%\nMic: 5% || 535\nWhy does bill “Skype” Looks’ better then CNN studio cameras? 🤔🤔 || 518\nBill is confident because he already calculated this year’s ago living in his bunker under ground watching his master plan coming to reality...... || 516\nDealing with viruses since windows 95 || 514\nBill Gates predicted this in a TED talk interview back in 2015...\nBill: “I told you so” 😏 || 497\nHe has the most “I TOLD YOU THIS WILL HAPPEN” look I have ever seen..! || 486\nThe blinking spelled “Hail Hydra.” || 479\nBill calling in with Skype, having better camera and lighting than the host of the show || 474\nThat’s about the best Skype feed I’ve ever seen.  I guess if your name is William Gates aka Bill you are going to have a broadcast quality feed. || 471\nLol, these \"news\" anchors look like confused puppies when bill is talking || 459\nThis whole segment\n\nBill Gates : 😏😁😄😏😀\n\nCooper  : 🤨\n\nGupta  : 😧 || 453\nNobody:\nBill Gates: I can see the next pandemic coming already. Smirks || 450\nIf you close your eyes then you hear kermit the frog talking about corona. || 450\nFor all out there to lazy to watch.. He says \"December\" || 436\nWhy does Bill Gates look ultra 4K HD and the other 2 look 1080p 😂 || 434\nPretty amazing when a doctor is listening to a computer genius about a virus. || 433\nhe made this case back in 15' at a\n TED talk.\nEdit: Haha damn. Y’all some ancient alien history mo foes || 423\nI'm so glad to see how so many people in the comments are aware of the manipulation and agendas || 420\n“prediction” you meant “plan” ? event 201 and ID2020, hmmmm || 407\nput your phone down while listening or look away and imagine Kermit the frog being interviewed and not Bill Gates || 403\nAfter this Bill Gates quietly shopping for a private island. || 394\nIts a bit scary how confident Bill Gates sounds, its like he is presenting his own business project or something. || 392\nGates can barely contain his smile like a kid on Christmas morning. || 364\nIt's like the two guys on the left are having a blinking race. .... guy in the middle is winning. || 359\nShould’ve listened to his Ted Talks, bruv. || 359\nbill gates is so rich he has his own version of skype that doesnt suck || 351\nThe fact that he's just smirking and smiling all the time is - at least to me - very disturbing. || 351\nI tried to blink with that guy in the middle my head and my eyes are hurting 😔😒🙁 || 350\nI'm sure Bill knows about about this weird virus and the vaccines to come || 346\nWho is watching this in 2043? || 341\nBill Gates: “this is a Beta test” || 340\nWasn’t Bill Gates talking about we need to depopulate the earth through vaccinations and such on Ted Talk || 339\nLook at thtat smile, he knows something we don't know. || 338\nGates: \"Just update your windows regularly and it will soon go away\" || 334\nSearch Youtube and watch his lecture about \"future epidemic\" FIVE years ago in one of Ted Talks shows. Everything he said back then is pretty much what the world is facing right now. || 329\nCame here to listen to Bill Gates, ended up thinking \"how can someone blink that many times?\" || 326\nBill Gates: Explains how the virus is just beginning\nSome guy in twitter: Is there still toilet paper? || 326\nI clicked at this video so fast knowing that \nWindows has a long history fighting viruses. || 317\nthese questions at the bottom of the video really have me questioning the intelligence of Americans lmao || 313\nIs it me or is Bill Gates slowly morphing into Steven Hawking's || 311\n5 years ago Bill did a TED Talk on this same issue imploring our government to be prepared...look at us now || 308\nI’m not sure cnn can afford to hire bill - his enthusiasm and excitement about the pandemic has cnn drooling || 303\nWhy is Bill so happy!? Is it cause he’s hitting his 10% depopulation target! || 300\nBill just casually sipping on a covid-19 vaccine in his coffee cup. || 283\nBill Gates should test the covid19 vaccine on himself first... Not on Africans... || 283\nWhat Bill Gates dreams of : Vaccinating the World. || 279\nBill funded \"event 201\" , then we get exactly event 201, now he has a cure from Pennsylvania.  He isn't a doctor or scientist but he has all the answers. WHY??? || 274\nIs he really predicting, or is he just telling us what he knows will happen? || 270\nWhen the Leader of WHO himself is smiling during a CoronaVirus interview - you know something is wrong. || 265\n“...then grows 33% per day” - Dude is also talking about his bank account. || 261\nBill gates rolls out his clone for the interview || 260\nTwo interviewers: asking questions. \nBill: ha ha haaaa || 255\nBill Gates has been talking about this for YEARS prior to all of what is happening.  In addition, his foundation is funding the creation of a vaccine. || 255\nHe has the “I already called the cops and they’re on their way” face || 253\nIt's simple math and the timing of events. Here in Spain we are on a lockdown since March 14th and we are JUST starting to see the effects of the quarantine. We reached the peak for the number of infections a couple days ago but the number of deaths is on the rise (because death obviously comes with a delay of a few days/weeks) so I'm sure we're at least a week away before we see the number of deaths per day stagnate. It's pretty damn scary what's going on. I bet the number or cases in the USA will reach at least a million. Yes, a million. That means with simple math and a health care system that does not get overwhelmed (which is unlikely) at least 30.000 deaths. I'm quite sure we'll be looking at more like 50.000 in reality. The takeaway is simple. LOCKDOWN. It'll take WEEKS before you start seeing results! \n\n\nBTW I'm being totally realistic with my estimations. No hoax or exageration here. In Spain we have a death rate of around 8 percent, and that's because our health care system is at maximum capacity and thus overwhelmed.\n\n\nGood luck my American friends.\n\n\nRIP to those whose life will be taken away by this stupid disease. || 253\nThe 2 guys on the left look absolutely Terrified, Bill looks Excited!! || 253\nIn Ireland the mantra is “behave like you have the virus” which focuses people on all the medical advice such as social isolation/distancing, hand washing etc || 252\nHe's laughing because he is behind it all. || 251\nThat's the best Skype connection I've ever seen🤔 || 251\nDude in the middle blinks his eyes so much it hurts my head to watch this... || 249\nBill Gates almost felled out his chair when the millionaire Doctor said he dosen't know anything about the financial world || 249\nIs Anderson and Sanjay talking with each other with their eye lids || 247\nEverytime he blinks in the middle someone is infected with covid 19 lol || 239\nEasy to do when you finance what is to come. There is an old saying: \"Everything he knows, he can predict\". || 238\n"
    }
   ],
   "source": [
    "for d in df[[\"author\", \"text\", \"time\", \"votes\"]].iloc[:100].values:\n",
    "    print(f\"{d[1]} || {d[3]}\")"
   ]
  },
  {
   "cell_type": "code",
   "execution_count": 14,
   "metadata": {},
   "outputs": [
    {
     "output_type": "execute_result",
     "data": {
      "text/plain": "array(['John Doe',\n       'Bill Gates is the most qualified person to speak about viruses since Windows have most of them',\n       '2주 전', 2732], dtype=object)"
     },
     "metadata": {},
     "execution_count": 14
    }
   ],
   "source": [
    "d"
   ]
  }
 ]
}