{
 "cells": [
  {
   "cell_type": "code",
   "execution_count": 1,
   "metadata": {},
   "outputs": [],
   "source": [
    "import pandas as pd"
   ]
  },
  {
   "cell_type": "code",
   "execution_count": 3,
   "metadata": {},
   "outputs": [],
   "source": [
    "import json\n",
    "with open(\"./A71lfXrQlxU.json\", encoding=\"utf-8\") as fp:\n",
    "    data = json.load(fp)"
   ]
  },
  {
   "cell_type": "code",
   "execution_count": 4,
   "metadata": {},
   "outputs": [],
   "source": [
    "def clean_data(data):\n",
    "    for d in data:\n",
    "        d[\"votes\"] = int(d[\"votes\"])\n",
    "    return data\n",
    "cleaned_data = clean_data(data)"
   ]
  },
  {
   "cell_type": "code",
   "execution_count": 5,
   "metadata": {},
   "outputs": [],
   "source": [
    "df = pd.DataFrame(data=cleaned_data).sort_values(\"votes\", ascending=False)"
   ]
  },
  {
   "cell_type": "code",
   "execution_count": 6,
   "metadata": {},
   "outputs": [
    {
     "name": "stdout",
     "output_type": "stream",
     "text": [
      "I believe him. We all know this man's been dealing with viruses since Windows 95 || 8151\n",
      "Bill Gates is the most qualified person to speak about viruses since Windows have most of them || 2746\n",
      "You know you're  wealthy,  when your Skype call looks like an expensive commercial. || 2314\n",
      "This guy been fighting viruses since windows 95 || 2188\n",
      "Bill hasn’t talked this much about viruses since Windows 98. || 1935\n",
      "Bill Gates has been talking about a disease killing people for years now || 1815\n",
      "He’s laughing cause he tried to warn these idiots half a decade ago || 1776\n",
      "Bill Gates has a resting “I told you so” face || 1630\n",
      "Throughout the whole interview Bill is just sitting with his face like didn’t I tell you idiots 4 years ago 😂 || 1610\n",
      "Bill Gates~ dealing with viruses since Windows 95 || 1512\n",
      "Gates been trying to stop viruses since windows 95 || 1476\n",
      "He's been planning and talking about this for years || 1442\n",
      "who saw bill gates talk about this 5 years ago and no one listen || 1374\n",
      "Bill Gates' camera quality is on billionaire levels! || 1287\n",
      "This Guy has been fighting viruses since Windows 95 || 1274\n",
      "Why does Bill Gates sounds like he know about the future everythings also sounds like not guessing,he is talking about it for sure. || 1234\n",
      "Bill Gates is blurring his background to hide his bunker's location. || 1175\n",
      "Bill gates has a resting smile he’s sitting there like “🙂” || 1168\n",
      "Everybody is blinking too much in this vid. || 1168\n",
      "I love how Bill's casual camera at his home is better than CNN's \"studio camera\". || 1120\n",
      "Bill Gates spoke about a pandemic 4 years ago in a conference, about how these world is ready for war but NOT a pandemic he was right || 1064\n",
      "bill's background is blurred because he's on mars || 1034\n",
      "Bill gets so tired having to deal with the stupid humans. || 1034\n",
      "He's Skype is higher quality than my Netflix || 1025\n",
      "He literally told us 4 years ago and we didn’t listen, we have to listen to YouTube recommendations because they are gonna come in handy. || 982\n",
      "This guy has been fighting viruses since Windows 95 || 962\n",
      "Bill has never been happier and enthused in an interview. Reminder he predicted the outbreak. || 913\n",
      "You can’t help but smile when you are basically trying to explain to children that water is wet. || 904\n",
      "This guy is dealing with viruses since Windows 95. Listen to him people! || 897\n",
      "Why does Gates look like he wants to laugh but he's trying not to || 889\n",
      "That skype connection between Bill's spaceship and earth is unreal || 884\n",
      "Bill Gates during the whole interview: 😏 || 874\n",
      "no one seems to remember that when he did his ebola ted talk a couple years ago he warned about us not being ready for a big pandemic || 871\n",
      "For just 10 seconds, focus only on how much each of the three guys are blinking.\n",
      "\n",
      "You can’t unsee it || 866\n",
      "Now you won’t know what the comment was about\n",
      "\n",
      "Still pretty cringy to be doing this but seriously wanted to try it once haha || 844\n",
      "Bill looks like he wants to laugh so bad || 829\n",
      "Bill gates looks like he’s in the doomsday heist planning room in gta || 826\n",
      "When bill said “it’s exponential growth” and like laughed. It’s so obvious, and it’s ridiculous he has to explain anything like this || 820\n",
      "Guy on right: really smart\n",
      "Guy in middle: actively listening\n",
      "Guy on left: everything over his head || 803\n",
      "Everyone: Bill Gates camera is so clear... Me: has he really always sounded like Kermit the frog? || 788\n",
      "I edited this comment so you don’t know why it has so many likes || 753\n",
      "Bill reminds me of a human version of Kermit the frog.  Even his voice a bit. || 749\n",
      "Why can't Microsoft develop an Anti-Virus for this corona.exe || 734\n",
      "Bill gates get excited about exponential growth, even if it’s a virus, lol || 730\n",
      "Bill’s camera has more quality than cnn’s || 716\n",
      "He must be using one of them big ass movie cameras as his Skype camera\n",
      "\n",
      "\n",
      "\n",
      "\n",
      "\n",
      "Btw I look like deji || 700\n",
      "Anderson looks like Bill’s evil alter-ego || 695\n",
      "Genius: predicts the next outbreak\n",
      "\n",
      "Society: \"BURN THE WITCH!!!\" || 694\n",
      "Bill gates camera is on another level 9k || 685\n",
      "Bill Gates sounds like a guy who would found a muti-billion dollar company || 683\n",
      "Nobody:\n",
      "\n",
      "\n",
      "Bill Gates: “They called me a madman” || 677\n",
      "This Bill guy is smart... He should start his own computer company or something. || 667\n",
      "Gate's high quality camera has tracking on it. It moves wherever he moves. Sick. He probably has a sexy Westworld robot holding it. || 630\n",
      "Plot twist: he was talking about computer viruses. || 624\n",
      "He's smiling like a dad who is explaining basic shit to his kids. || 623\n",
      "I feel like I'm character stuck inside sci-fi Movie https://youtu.be/VHqG6ZheT3s || 611\n",
      "this feels like two kids asking dad whats happening in the world right now || 605\n",
      "i like that his camera quality is significantly better lol || 604\n",
      "I'm not scared of Corona virus, I'm scared of my mom or grandparents getting it. || 602\n",
      "He smirked cause he predict this when he talked at TED\n",
      "\n",
      "Edit: Wow, bunch of idiots are here || 601\n",
      "huh, it's almost like bill said four years ago that we aren't ready for the next pandemic.\n",
      "\n",
      "\n",
      "oh, wait. || 599\n",
      "Gotta listen to this guy cause he's been fighting viruses since windows 95. Gotta listen carefully || 593\n",
      "If I gave a TED talk about this exact scenario 5 years ago my smuglevels would be through the roof. || 579\n",
      "When the bogeyman goes to sleep he checks under his bed for Bill Gates || 577\n",
      "Let’s give Anderson a hand for actually letting his guests discuss this openly without interruption. Why can’t all interviews be like this? || 576\n",
      "Guy in the middle blinked like 100000 times || 573\n",
      "Bill's been fighting viruses since Windows 95 LOL!!! || 569\n",
      "He’s smirking cause some Americans really think this is going to be over soon || 568\n",
      "Listen to Bill Gates, he knows about this, he has been fighting Viruses since  Windows 95  :) || 558\n",
      "dude on the left looks like the hero's friend in a movie that turns out to be a murderous villain at the end. || 554\n",
      "Bill gates WiFi too good, only news Skype call ever that doesn’t lag. 😂 || 548\n",
      "Bill pulled the biggest “I told you so” of all time || 545\n",
      "Recommended video: TED Talk - Bill Gates, “We’re Not Ready for the Next Outbreak”\n",
      "\n",
      "Posted four years ago. || 544\n",
      "I just realized that this is my first time ever hearing Bill Gates’ voice || 542\n",
      "Bill has never felt so alive, he’s positively glowing. || 541\n",
      "Bill Gates camera quality:\n",
      "Video: 95%\n",
      "Mic: 5% || 535\n",
      "Americans: \n",
      "When can we get back to our lives?\n",
      "\n",
      "Reality:\n",
      "The numbers are still going up!! || 533\n",
      "Why does bill “Skype” Looks’ better then CNN studio cameras? 🤔🤔 || 518\n",
      "Bill is confident because he already calculated this year’s ago living in his bunker under ground watching his master plan coming to reality...... || 516\n",
      "Dealing with viruses since windows 95 || 514\n",
      "Middle guy defo has a gun pointed at him, trying to blink morse code and shit 😂 || 509\n",
      "Bill Gates predicted this in a TED talk interview back in 2015...\n",
      "Bill: “I told you so” 😏 || 497\n",
      "We can’t save the American economy without first saving the American people. || 496\n",
      "Their just gonna ignore the fact that bill predicted the virus 4 years ago || 496\n",
      "Bill has the \"I warned you back then look\" lol || 495\n",
      "Bill got that smirk like \" I told u so\" lol || 490\n",
      "He has the most “I TOLD YOU THIS WILL HAPPEN” look I have ever seen..! || 486\n",
      "The blinking spelled “Hail Hydra.” || 479\n",
      "\"Countries that have been competently led\" bill throwing that low key shade || 479\n",
      "Bill calling in with Skype, having better camera and lighting than the host of the show || 474\n",
      "That’s about the best Skype feed I’ve ever seen.  I guess if your name is William Gates aka Bill you are going to have a broadcast quality feed. || 471\n",
      "The smile on Bill Gates face is saying to the world \"I told you so!!!!\" || 469\n",
      "Sorry Bill, Americans don't listen to smart people any more. || 465\n",
      "Bill sounds quite smart, maybe he’ll be rich someday... || 464\n",
      "I like how Bill says “rich countries that are competently handling the situation....” He aint talkin bout us... || 460\n",
      "plot twist: If we all get the virus, Mexico will build a wall. || 460\n",
      "America: Bill do you have enough money to save us\n",
      "\n",
      "Bill: Probably || 460\n",
      "Lol, these \"news\" anchors look like confused puppies when bill is talking || 459\n",
      "This whole segment\n",
      "\n",
      "Bill Gates : 😏😁😄😏😀\n",
      "\n",
      "Cooper  : 🤨\n",
      "\n",
      "Gupta  : 😧 || 453\n",
      "Bill Gates keeps smiling like he know this ain’t stopping anytime soon. || 451\n"
     ]
    }
   ],
   "source": [
    "for d in df[[\"author\", \"text\", \"time\", \"votes\"]].iloc[:100].values:\n",
    "    print(f\"{d[1]} || {d[3]}\")"
   ]
  },
  {
   "cell_type": "code",
   "execution_count": 14,
   "metadata": {},
   "outputs": [
    {
     "data": {
      "text/plain": [
       "array(['John Doe',\n",
       "       'Bill Gates is the most qualified person to speak about viruses since Windows have most of them',\n",
       "       '2주 전', 2732], dtype=object)"
      ]
     },
     "execution_count": 14,
     "metadata": {},
     "output_type": "execute_result"
    }
   ],
   "source": [
    "d"
   ]
  }
 ],
 "metadata": {
  "file_extension": ".py",
  "kernelspec": {
   "display_name": "lyrics",
   "language": "python",
   "name": "lyrics"
  },
  "language_info": {
   "codemirror_mode": {
    "name": "ipython",
    "version": 3
   },
   "file_extension": ".py",
   "mimetype": "text/x-python",
   "name": "python",
   "nbconvert_exporter": "python",
   "pygments_lexer": "ipython3",
   "version": "3.6.5"
  },
  "mimetype": "text/x-python",
  "name": "python",
  "npconvert_exporter": "python",
  "pygments_lexer": "ipython3",
  "version": 3
 },
 "nbformat": 4,
 "nbformat_minor": 2
}
